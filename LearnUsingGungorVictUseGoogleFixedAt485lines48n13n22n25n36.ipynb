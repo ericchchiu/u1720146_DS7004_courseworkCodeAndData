{
 "cells": [
  {
   "cell_type": "code",
   "execution_count": 1,
   "metadata": {},
   "outputs": [],
   "source": [
    "#need to download GoogleNews-vectors-negative300.bin first\n",
    "from gensim.models import Word2Vec, KeyedVectors\n",
    "#use your path!!!\n",
    "pathToGoogleNews300 = '..//fromBlogOfShaneLynnWordEmbeddingsWithSpacyAndGensim_GoogleNews300//data//GoogleNews-vectors-negative300.bin'\n",
    "model = KeyedVectors.load_word2vec_format(pathToGoogleNews300, binary=True)"
   ]
  },
  {
   "cell_type": "code",
   "execution_count": 2,
   "metadata": {},
   "outputs": [],
   "source": [
    "import pandas as pd\n",
    "#need to download Gungor_2018_VictorianAuthorAttribution_data-train.csv from http://archive.ics.uci.edu/ml/datasets/Victorian+Era+Authorship+Attribution\n",
    "#use your path!!!\n",
    "pathToGungorVict = '..//..//DS7004//u1720146_DS7004_courseworkCodeAndData//preparationWorks//fromDS7003_Gungor2018VictorianAuthorAttribution_NGram//Gungor_2018_VictorianAuthorAttribution_data-train.csv'\n",
    "gungorVictRow = pd.read_csv(pathToGungorVict, encoding = 'ISO-8859-1')\n",
    "#48: Washington Irving/ 13: Frances Hodgson Burnett/ 22: Jacob Abbott/ 25: James Payn/ 36: Oliver Optic"
   ]
  },
  {
   "cell_type": "code",
   "execution_count": 3,
   "metadata": {},
   "outputs": [],
   "source": [
    "for i in [13, 22, 25, 36, 48]:\n",
    "    allLines = gungorVictRow.loc[gungorVictRow['author'] == i]\n",
    "    lines350 = allLines.iloc[0:350]\n",
    "    linesLast20 = allLines.iloc[-20:]\n",
    "    try:\n",
    "        train = train.append(lines350)\n",
    "        test = test.append(linesLast20)\n",
    "    except:\n",
    "        train = lines350\n",
    "        test = linesLast20\n",
    "train = train.sample(frac=1, random_state=42).reset_index(drop = True) #1750 lines suffled\n",
    "test = test.sample(frac=1, random_state=42).reset_index(drop = True) #100 lines suffledtest = authorsLines.sample(frac=0.3, random_state=42)"
   ]
  },
  {
   "cell_type": "code",
   "execution_count": 13,
   "metadata": {},
   "outputs": [
    {
     "data": {
      "text/plain": [
       "[('queen', 0.7118192911148071),\n",
       " ('monarch', 0.6189674139022827),\n",
       " ('princess', 0.5902431607246399),\n",
       " ('crown_prince', 0.5499460697174072),\n",
       " ('prince', 0.5377321243286133),\n",
       " ('kings', 0.5236844420433044),\n",
       " ('Queen_Consort', 0.5235945582389832),\n",
       " ('queens', 0.5181134343147278),\n",
       " ('sultan', 0.5098593235015869),\n",
       " ('monarchy', 0.5087411999702454)]"
      ]
     },
     "execution_count": 13,
     "metadata": {},
     "output_type": "execute_result"
    }
   ],
   "source": [
    "model.most_similar(positive=['king', 'woman'], negative=['man'])"
   ]
  },
  {
   "cell_type": "code",
   "execution_count": 14,
   "metadata": {},
   "outputs": [
    {
     "data": {
      "text/plain": [
       "[('worse', 0.7288720607757568),\n",
       " ('uglier', 0.5725537538528442),\n",
       " ('sooner', 0.5309501886367798),\n",
       " ('dumber', 0.522783637046814),\n",
       " ('differently', 0.5173395872116089),\n",
       " ('quicker', 0.5150286555290222),\n",
       " ('stupider', 0.5140471458435059),\n",
       " ('harsher', 0.5098250508308411),\n",
       " ('harder', 0.5080496072769165),\n",
       " ('scarier', 0.5044300556182861)]"
      ]
     },
     "execution_count": 14,
     "metadata": {},
     "output_type": "execute_result"
    }
   ],
   "source": [
    "model.most_similar(positive=['better', 'bad'], negative=['good'])"
   ]
  },
  {
   "cell_type": "code",
   "execution_count": 16,
   "metadata": {},
   "outputs": [
    {
     "data": {
      "text/plain": [
       "[('see', 0.4809260070323944),\n",
       " ('looked', 0.45732152462005615),\n",
       " ('seeing', 0.4199181795120239),\n",
       " ('advantage', 0.40815281867980957),\n",
       " ('knew', 0.3928772211074829),\n",
       " ('thought', 0.38903290033340454),\n",
       " ('noticed', 0.38654080033302307),\n",
       " ('squandered_glorious', 0.3810598850250244),\n",
       " ('midway_through', 0.37417805194854736),\n",
       " ('chances', 0.36055076122283936)]"
      ]
     },
     "execution_count": 16,
     "metadata": {},
     "output_type": "execute_result"
    }
   ],
   "source": [
    "model.most_similar(positive=['lead', 'saw'], negative=['led'])"
   ]
  },
  {
   "cell_type": "code",
   "execution_count": 15,
   "metadata": {},
   "outputs": [
    {
     "name": "stderr",
     "output_type": "stream",
     "text": [
      "C:\\Users\\Eric\\anaconda3\\lib\\site-packages\\gensim\\models\\keyedvectors.py:877: FutureWarning: arrays to stack must be passed as a \"sequence\" type such as list or tuple. Support for non-sequence iterables such as generators is deprecated as of NumPy 1.16 and will raise an error in the future.\n",
      "  vectors = vstack(self.word_vec(word, use_norm=True) for word in used_words).astype(REAL)\n"
     ]
    },
    {
     "data": {
      "text/plain": [
       "'kitchen'"
      ]
     },
     "execution_count": 15,
     "metadata": {},
     "output_type": "execute_result"
    }
   ],
   "source": [
    "model.doesnt_match(\"man woman child kitchen\".split())"
   ]
  },
  {
   "cell_type": "code",
   "execution_count": 4,
   "metadata": {
    "scrolled": true
   },
   "outputs": [],
   "source": [
    "import gensim\n",
    "all_stopwords = set(gensim.parsing.preprocessing.STOPWORDS)"
   ]
  },
  {
   "cell_type": "code",
   "execution_count": 5,
   "metadata": {},
   "outputs": [],
   "source": [
    "#be careful: nword and counter must be integers --Chiu\n",
    "import numpy as np  # Make sure that numpy is imported\n",
    "\n",
    "def makeFeatureVec(words, model, num_features):\n",
    "    # Function to average all of the word vectors in a given\n",
    "    # paragraph\n",
    "    #\n",
    "    # Pre-initialize an empty numpy array (for speed)\n",
    "    featureVec = np.zeros((num_features,),dtype=\"float32\")\n",
    "    #\n",
    "    nwords = 0\n",
    "    # \n",
    "    # Index2word is a list that contains the names of the words in \n",
    "    # the model's vocabulary. Convert it to a set, for speed \n",
    "    index2word_set = set(model.wv.index2word)\n",
    "    index2word_set2 = all_stopwords\n",
    "    #\n",
    "    # Loop over each word in the review and, if it is in the model's\n",
    "    # vocaublary, add its feature vector to the total\n",
    "    for word in words:\n",
    "        if word in index2word_set:\n",
    "            if word in index2word_set2: \n",
    "                nwords = nwords + 1\n",
    "                featureVec = np.add(featureVec,model[word])\n",
    "    # \n",
    "    # Divide the result by the number of words to get the average\n",
    "    if nwords == 0:\n",
    "        nwords = 1\n",
    "    featureVec = np.divide(featureVec,nwords)\n",
    "    return featureVec\n",
    "\n",
    "\n",
    "def getAvgFeatureVecs(reviews, model, num_features):\n",
    "    # Given a set of reviews (each one a list of words), calculate \n",
    "    # the average feature vector for each one and return a 2D numpy array \n",
    "    # \n",
    "    # Initialize a counter\n",
    "    counter = 0\n",
    "    # \n",
    "    # Preallocate a 2D numpy array, for speed\n",
    "    reviewFeatureVecs = np.zeros((len(reviews),num_features),dtype=\"float32\")\n",
    "    # \n",
    "    # Loop through the reviews\n",
    "    for review in reviews:\n",
    "       #\n",
    "       # Print a status message every 1000th review\n",
    "        if counter%50 == 0:\n",
    "            haha = counter; hihi = len(reviews)\n",
    "            print(f\"Review {haha} of {hihi}\") #% (counter, len(reviews))\n",
    "       # \n",
    "       # Call the function (defined above) that makes average feature vectors\n",
    "        #reviewFeatureVecs[counter] = makeFeatureVec(review, model, num_features)\n",
    "        reviewFeatureVecs[counter] = makeFeatureVec(review, model, num_features)\n",
    "       #\n",
    "       # Increment the counter\n",
    "        counter = counter + 1\n",
    "    return reviewFeatureVecs"
   ]
  },
  {
   "cell_type": "code",
   "execution_count": 6,
   "metadata": {},
   "outputs": [],
   "source": [
    "# Import various modules for string cleaning\n",
    "from bs4 import BeautifulSoup\n",
    "import re\n",
    "from nltk.corpus import stopwords\n",
    "\n",
    "def review_to_wordlist( review, remove_stopwords=False ):\n",
    "    # Function to convert a document to a sequence of words,\n",
    "    # optionally removing stop words.  Returns a list of words.\n",
    "    #\n",
    "    # 1. Remove HTML\n",
    "    review_text = BeautifulSoup(review).get_text()\n",
    "    #  \n",
    "    # 2. Remove non-letters\n",
    "    review_text = re.sub(\"[^a-zA-Z]\",\" \", review_text)\n",
    "    #\n",
    "    # 3. Convert words to lower case and split them\n",
    "    words = review_text.lower().split()\n",
    "    #\n",
    "    # 4. Optionally remove stop words (false by default)\n",
    "    if remove_stopwords:\n",
    "        stops = set(stopwords.words(\"english\"))\n",
    "        words = [w for w in words if not w in stops]\n",
    "    #\n",
    "    # 5. Return a list of words\n",
    "    return(words)"
   ]
  },
  {
   "cell_type": "code",
   "execution_count": 7,
   "metadata": {},
   "outputs": [
    {
     "name": "stdout",
     "output_type": "stream",
     "text": [
      "Review 0 of 1750\n"
     ]
    },
    {
     "name": "stderr",
     "output_type": "stream",
     "text": [
      "<ipython-input-5-206be6dc17b3>:15: DeprecationWarning: Call to deprecated `wv` (Attribute will be removed in 4.0.0, use self instead).\n",
      "  index2word_set = set(model.wv.index2word)\n"
     ]
    },
    {
     "name": "stdout",
     "output_type": "stream",
     "text": [
      "Review 50 of 1750\n",
      "Review 100 of 1750\n",
      "Review 150 of 1750\n",
      "Review 200 of 1750\n",
      "Review 250 of 1750\n",
      "Review 300 of 1750\n",
      "Review 350 of 1750\n",
      "Review 400 of 1750\n",
      "Review 450 of 1750\n",
      "Review 500 of 1750\n",
      "Review 550 of 1750\n",
      "Review 600 of 1750\n",
      "Review 650 of 1750\n",
      "Review 700 of 1750\n",
      "Review 750 of 1750\n",
      "Review 800 of 1750\n",
      "Review 850 of 1750\n",
      "Review 900 of 1750\n",
      "Review 950 of 1750\n",
      "Review 1000 of 1750\n",
      "Review 1050 of 1750\n",
      "Review 1100 of 1750\n",
      "Review 1150 of 1750\n",
      "Review 1200 of 1750\n",
      "Review 1250 of 1750\n",
      "Review 1300 of 1750\n",
      "Review 1350 of 1750\n",
      "Review 1400 of 1750\n",
      "Review 1450 of 1750\n",
      "Review 1500 of 1750\n",
      "Review 1550 of 1750\n",
      "Review 1600 of 1750\n",
      "Review 1650 of 1750\n",
      "Review 1700 of 1750\n",
      "Creating average feature vecs for test reviews\n",
      "Review 0 of 100\n",
      "Review 50 of 100\n"
     ]
    }
   ],
   "source": [
    "# ****************************************************************\n",
    "# Calculate average feature vectors for training and testing sets,\n",
    "# using the functions we defined above. Notice that we now use stop word\n",
    "# removal.\n",
    "num_features = 300\n",
    "clean_train_reviews = []\n",
    "for review in train[\"text\"]:\n",
    "    #clean_train_reviews.append( review_to_wordlist( review, \\\n",
    "        #remove_stopwords=True ))\n",
    "    clean_train_reviews.append( review_to_wordlist( review ))\n",
    "\n",
    "trainDataVecs = getAvgFeatureVecs( clean_train_reviews, model, num_features )\n",
    "\n",
    "print(\"Creating average feature vecs for test reviews\")\n",
    "clean_test_reviews = []\n",
    "for review in test[\"text\"]:\n",
    "    #clean_test_reviews.append( review_to_wordlist( review, remove_stopwords=True ))\n",
    "    clean_test_reviews.append( review_to_wordlist( review ))\n",
    "\n",
    "testDataVecs = getAvgFeatureVecs( clean_test_reviews, model, num_features )"
   ]
  },
  {
   "cell_type": "code",
   "execution_count": 8,
   "metadata": {},
   "outputs": [
    {
     "name": "stdout",
     "output_type": "stream",
     "text": [
      "Fitting a random forest to labeled training data...\n"
     ]
    }
   ],
   "source": [
    "# Fit a random forest to the training data, using 100 trees\n",
    "from sklearn.ensemble import RandomForestClassifier\n",
    "forest = RandomForestClassifier( n_estimators = 100 )\n",
    "\n",
    "print(\"Fitting a random forest to labeled training data...\")\n",
    "forest = forest.fit( trainDataVecs, train[\"author\"] )\n",
    "\n",
    "# Test & extract results \n",
    "result = forest.predict( testDataVecs )\n",
    "\n",
    "# Write the test results \n",
    "output = pd.DataFrame( data={\"true_author\":test[\"author\"], \"pred_author\":result} )\n",
    "output.to_csv( \"Word2Vec_AverageVectors.csv\", index=False, quoting=3 )"
   ]
  },
  {
   "cell_type": "code",
   "execution_count": 9,
   "metadata": {},
   "outputs": [
    {
     "name": "stdout",
     "output_type": "stream",
     "text": [
      "Predicted  13  22  25  36  48\n",
      "Actural                      \n",
      "13         12   1   2   3   2\n",
      "22          0  20   0   0   0\n",
      "25          4   0  16   0   0\n",
      "36          0   2   0  17   1\n",
      "48          0   6   0   6   8\n"
     ]
    }
   ],
   "source": [
    "confusion_matrix = pd.crosstab(output['true_author'], output['pred_author'], rownames=['Actural'], colnames=['Predicted'])\n",
    "print(confusion_matrix)"
   ]
  },
  {
   "cell_type": "code",
   "execution_count": 10,
   "metadata": {},
   "outputs": [
    {
     "name": "stdout",
     "output_type": "stream",
     "text": [
      "Accuracy:  0.73\n"
     ]
    }
   ],
   "source": [
    "from sklearn import metrics\n",
    "print('Accuracy: ', metrics.accuracy_score(output['true_author'], output['pred_author']))"
   ]
  },
  {
   "cell_type": "code",
   "execution_count": 11,
   "metadata": {},
   "outputs": [
    {
     "name": "stdout",
     "output_type": "stream",
     "text": [
      "f1 score:  0.716071585495496\n"
     ]
    }
   ],
   "source": [
    "print('f1 score: ', metrics.f1_score(output['true_author'], output['pred_author'], average = 'weighted'))"
   ]
  },
  {
   "cell_type": "code",
   "execution_count": null,
   "metadata": {},
   "outputs": [],
   "source": []
  },
  {
   "cell_type": "code",
   "execution_count": null,
   "metadata": {},
   "outputs": [],
   "source": []
  },
  {
   "cell_type": "code",
   "execution_count": null,
   "metadata": {},
   "outputs": [],
   "source": []
  },
  {
   "cell_type": "code",
   "execution_count": null,
   "metadata": {},
   "outputs": [],
   "source": []
  },
  {
   "cell_type": "code",
   "execution_count": null,
   "metadata": {},
   "outputs": [],
   "source": []
  }
 ],
 "metadata": {
  "kernelspec": {
   "display_name": "Python 3",
   "language": "python",
   "name": "python3"
  },
  "language_info": {
   "codemirror_mode": {
    "name": "ipython",
    "version": 3
   },
   "file_extension": ".py",
   "mimetype": "text/x-python",
   "name": "python",
   "nbconvert_exporter": "python",
   "pygments_lexer": "ipython3",
   "version": "3.8.3"
  }
 },
 "nbformat": 4,
 "nbformat_minor": 4
}
